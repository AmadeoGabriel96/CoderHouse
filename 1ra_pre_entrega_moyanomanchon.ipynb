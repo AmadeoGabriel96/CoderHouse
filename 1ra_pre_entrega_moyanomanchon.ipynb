{
  "nbformat": 4,
  "nbformat_minor": 0,
  "metadata": {
    "colab": {
      "provenance": [],
      "authorship_tag": "ABX9TyMijF70SWy057YDdKc9rsLD"
    },
    "kernelspec": {
      "name": "python3",
      "display_name": "Python 3"
    },
    "language_info": {
      "name": "python"
    }
  },
  "cells": [
    {
      "cell_type": "code",
      "execution_count": null,
      "metadata": {
        "id": "bNZ_6zTBvaG2"
      },
      "outputs": [],
      "source": [
        "BD = {}"
      ]
    },
    {
      "cell_type": "code",
      "source": [
        "def registro(baseDatos):\n",
        "  usuario = input(\"Ingrese un nombre de usuario: \")\n",
        "  contraseña = input(\"Ingrese una contraseña de letras y/o números: \")\n",
        "  baseDatos[usuario] = contraseña\n"
      ],
      "metadata": {
        "id": "vzzV0Jw8z6Kn"
      },
      "execution_count": null,
      "outputs": []
    },
    {
      "cell_type": "code",
      "source": [
        "registro(BD)"
      ],
      "metadata": {
        "colab": {
          "base_uri": "https://localhost:8080/"
        },
        "id": "l1xs05twCuLp",
        "outputId": "ae5c317a-522a-4ccf-c613-214436f861ed"
      },
      "execution_count": null,
      "outputs": [
        {
          "name": "stdout",
          "output_type": "stream",
          "text": [
            "Ingrese un nombre de usuario: Juan\n",
            "Ingrese una contraseña de letras y/o números: 1234\n"
          ]
        }
      ]
    },
    {
      "cell_type": "code",
      "source": [
        "def mostrarBaseDatos(baseDatos):\n",
        "  for user, password in baseDatos.items():\n",
        "    print(f\"\\n El usuario es: {user} \\n La contraseña es: {password}\")"
      ],
      "metadata": {
        "id": "Ml9iHQpovFGF"
      },
      "execution_count": null,
      "outputs": []
    },
    {
      "cell_type": "code",
      "source": [
        "mostrarBaseDatos(BD)"
      ],
      "metadata": {
        "colab": {
          "base_uri": "https://localhost:8080/"
        },
        "id": "rXtZlG4ZxcLa",
        "outputId": "bb1e2446-d54f-492d-de56-2d07c73fa240"
      },
      "execution_count": null,
      "outputs": [
        {
          "output_type": "stream",
          "name": "stdout",
          "text": [
            "\n",
            " El usuario es: Juan \n",
            " La contraseña es: 1234\n"
          ]
        }
      ]
    },
    {
      "cell_type": "code",
      "source": [
        "def login(baseDatos):\n",
        "    usuario = input(\"Ingrese su nombre de usuario: \")\n",
        "    contraseña = input(\"Ingrese su contraseña: \")\n",
        "\n",
        "    if usuario in baseDatos and baseDatos[usuario] == contraseña:\n",
        "        print(\"¡Sesión iniciada correctamente!\")\n",
        "    else:\n",
        "        print(\"Nombre de usuario o contraseña incorrecto/a.\")\n",
        "\n",
        "\n",
        "\n",
        "\n",
        "\n",
        "\n",
        "\n",
        "\n",
        "\n",
        "\n",
        "\n",
        "\n",
        "\n",
        "\n",
        "\n",
        "\n"
      ],
      "metadata": {
        "id": "PWgbR2SNykPQ"
      },
      "execution_count": null,
      "outputs": []
    },
    {
      "cell_type": "code",
      "source": [
        "login(BD)"
      ],
      "metadata": {
        "colab": {
          "base_uri": "https://localhost:8080/"
        },
        "id": "A9cETitucmVR",
        "outputId": "167be456-e4a5-4a50-960d-502865027ec0"
      },
      "execution_count": null,
      "outputs": [
        {
          "output_type": "stream",
          "name": "stdout",
          "text": [
            "Ingrese su nombre de usuario: Juan\n",
            "Ingrese su contraseña: 1234\n",
            "¡Sesión iniciada correctamente!\n"
          ]
        }
      ]
    },
    {
      "cell_type": "code",
      "source": [],
      "metadata": {
        "colab": {
          "base_uri": "https://localhost:8080/",
          "height": 181
        },
        "id": "F6jueu7d7F0v",
        "outputId": "368fcadb-9b17-4e53-afd1-c25b5afa14ed"
      },
      "execution_count": null,
      "outputs": [
        {
          "output_type": "error",
          "ename": "NameError",
          "evalue": "name 'baseDatos' is not defined",
          "traceback": [
            "\u001b[0;31m---------------------------------------------------------------------------\u001b[0m",
            "\u001b[0;31mNameError\u001b[0m                                 Traceback (most recent call last)",
            "\u001b[0;32m<ipython-input-49-86ca6bf6ecc6>\u001b[0m in \u001b[0;36m<cell line: 1>\u001b[0;34m()\u001b[0m\n\u001b[0;32m----> 1\u001b[0;31m \u001b[0mlogin\u001b[0m\u001b[0;34m(\u001b[0m\u001b[0mbaseDatos\u001b[0m\u001b[0;34m)\u001b[0m\u001b[0;34m\u001b[0m\u001b[0;34m\u001b[0m\u001b[0m\n\u001b[0m",
            "\u001b[0;31mNameError\u001b[0m: name 'baseDatos' is not defined"
          ]
        }
      ]
    }
  ]
}